{
 "cells": [
  {
   "cell_type": "markdown",
   "id": "71d0aa81",
   "metadata": {},
   "source": [
    "# Зачетная работа по предмету “Системы компьютерной математики”."
   ]
  },
  {
   "cell_type": "markdown",
   "id": "2c3e084a",
   "metadata": {},
   "source": [
    "## Задача: 9. Как растет число обусловленности для случайной матрицы?"
   ]
  },
  {
   "cell_type": "markdown",
   "id": "c222a160",
   "metadata": {},
   "source": [
    "### Выполнил: Фомин Владимир Михайлович \n",
    "### Преподаватель: Золотых Николай Юрьевич"
   ]
  },
  {
   "cell_type": "markdown",
   "id": "19b370d1",
   "metadata": {},
   "source": [
    "Цель данной задачи – экспериментально выяснить зависимость числа обусловленности $ \\mbox{cond}_1 A_n $ от порядка случайной матрицы. Экспериментальным путем необходимо выяснить, что $ \\mbox{cond}_1 A_n $ в среднем растет как показательная функция от $ {n} $ , а именно, что для большинства матриц $$ c_1 n^p \\le \\mbox{cond}_1 A_n \\le c_2 n^p $$\n"
   ]
  },
  {
   "cell_type": "markdown",
   "id": "df48b054",
   "metadata": {},
   "source": [
    "**Импорт необходимых библиотек**\n"
   ]
  },
  {
   "cell_type": "code",
   "execution_count": 1,
   "id": "4d5b464e",
   "metadata": {},
   "outputs": [],
   "source": [
    "import numpy as np\n",
    "import random\n",
    "from matplotlib import pyplot\n",
    "%matplotlib inline"
   ]
  },
  {
   "cell_type": "markdown",
   "id": "08cf7137",
   "metadata": {},
   "source": [
    "**Создаем функцию для отрисовки графика со значениями числа обусловленности** "
   ]
  },
  {
   "cell_type": "code",
   "execution_count": 2,
   "id": "94ec9802",
   "metadata": {},
   "outputs": [],
   "source": [
    "def loglogGraph(x, y, settings, TitleName, XlabelName, YlabelName):                            \n",
    "    pyplot.loglog(x, y, settings)                                                \n",
    "    pyplot.title(TitleName)                                                                   \n",
    "    pyplot.xlabel(XlabelName)                                                                 \n",
    "    pyplot.ylabel(YlabelName)                                                                 \n",
    "    pyplot.grid()  "
   ]
  },
  {
   "cell_type": "markdown",
   "id": "0611de88",
   "metadata": {},
   "source": [
    "**Необходимо определить число экспериментов или максимальное значение ранга матрицы** "
   ]
  },
  {
   "cell_type": "code",
   "execution_count": 3,
   "id": "a35792ea",
   "metadata": {},
   "outputs": [],
   "source": [
    "nMax = 100"
   ]
  },
  {
   "cell_type": "markdown",
   "id": "d57d1a25",
   "metadata": {},
   "source": [
    "**Создаем массив со значениями числа обусловленности и массив с рангами матриц, а также для значений показательных функций**"
   ]
  },
  {
   "cell_type": "code",
   "execution_count": 4,
   "id": "7b06dce6",
   "metadata": {},
   "outputs": [],
   "source": [
    "c1_n_p = []\n",
    "c2_n_p = []\n",
    "Conds = []\n",
    "n = [i for i in range(1, nMax+1)]"
   ]
  },
  {
   "cell_type": "markdown",
   "id": "342aa74b",
   "metadata": {},
   "source": [
    "**Создадим цикл для вычисления значения числа обусловленности матриц**"
   ]
  },
  {
   "cell_type": "code",
   "execution_count": 5,
   "id": "0c9cfa70",
   "metadata": {},
   "outputs": [],
   "source": [
    "for i in range(len(n)):\n",
    "    A = np.random.normal(loc=0.0, scale=1.0, size=(n[i], n[i]))\n",
    "    Conds.append(np.linalg.cond(A))"
   ]
  },
  {
   "cell_type": "markdown",
   "id": "a786eb0c",
   "metadata": {},
   "source": [
    "**Подберем аргументы показательных функций**"
   ]
  },
  {
   "cell_type": "code",
   "execution_count": 6,
   "id": "d3bc0645",
   "metadata": {},
   "outputs": [],
   "source": [
    "c1 = 0.01\n",
    "c2 = 2 \n",
    "p = 2"
   ]
  },
  {
   "cell_type": "markdown",
   "id": "f764df2c",
   "metadata": {},
   "source": [
    "**Создадим цикл для вычисления значения показательных функций**"
   ]
  },
  {
   "cell_type": "code",
   "execution_count": 7,
   "id": "705a7ac9",
   "metadata": {},
   "outputs": [],
   "source": [
    "for i in range(len(n)):\n",
    "    c1_n_p.append(c1*(n[i]**p))\n",
    "    c2_n_p.append(c2*(n[i]**p))"
   ]
  },
  {
   "cell_type": "markdown",
   "id": "f70ece3a",
   "metadata": {},
   "source": [
    "**Построим график чисел обусловленности и показательных функций** $ c_1 n^p $ , $ c_2 n^p $ "
   ]
  },
  {
   "cell_type": "code",
   "execution_count": 8,
   "id": "61704d01",
   "metadata": {},
   "outputs": [
    {
     "data": {
      "image/png": "[encoded data removed]",
      "text/plain": [
       "<Figure size 432x288 with 1 Axes>"
      ]
     },
     "metadata": {
      "needs_background": "light"
     },
     "output_type": "display_data"
    }
   ],
   "source": [
    "loglogGraph(n, Conds,'.b', 'Значение чисел обусловленности','Порядок матрицы','Число обусловленности')\n",
    "loglogGraph(n,c1_n_p,'g' ,'Значение чисел обусловленности','Порядок матрицы','Число обусловленности')\n",
    "loglogGraph(n,c2_n_p, 'r', 'Значение чисел обусловленности','Порядок матрицы','Число обусловленности')"
   ]
  },
  {
   "cell_type": "markdown",
   "id": "4395cacc",
   "metadata": {},
   "source": [
    "# Вывод:"
   ]
  },
  {
   "cell_type": "markdown",
   "id": "a56b1eba",
   "metadata": {},
   "source": [
    "В ходе работы я испытал серию случайных матриц $ A_n $. Для каждой матрицы было найдено число обусловленности и построен график зависимости порядка матрицы $ n $ от числа обусловленности $ $. Необходимо было доказать ,что для большинства матриц $$ c_1 n^p \\le \\mbox{cond}_1 A_n \\le c_2 n^p $$\n",
    "Для этого я необходимо было подобрал $ p $, $ c_1 $ , $ c_2 $ и в тех же осях нарисовал графики функций $ c_1 n^p $ , $ c_2 n^p $ , что наглядно доказывает данную зависимость\n"
   ]
  }
 ],
 "metadata": {
  "celltoolbar": "Необработанный формат ячейки",
  "kernelspec": {
   "display_name": "Python 3 (ipykernel)",
   "language": "python",
   "name": "python3"
  },
  "language_info": {
   "codemirror_mode": {
    "name": "ipython",
    "version": 3
   },
   "file_extension": ".py",
   "mimetype": "text/x-python",
   "name": "python",
   "nbconvert_exporter": "python",
   "pygments_lexer": "ipython3",
   "version": "3.9.7"
  }
 },
 "nbformat": 4,
 "nbformat_minor": 5
}
